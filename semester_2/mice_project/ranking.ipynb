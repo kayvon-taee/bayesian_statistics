{
 "cells": [
  {
   "cell_type": "code",
   "execution_count": 4,
   "id": "initial_id",
   "metadata": {
    "collapsed": true,
    "ExecuteTime": {
     "end_time": "2024-04-25T14:25:36.806735100Z",
     "start_time": "2024-04-25T14:25:36.780215700Z"
    }
   },
   "outputs": [
    {
     "name": "stdout",
     "output_type": "stream",
     "text": [
      "{'RS': 25.5, 'CC': 30, 'RF': 29, 'PMM': 15.5}\n"
     ]
    }
   ],
   "source": [
    "import pandas as pd\n",
    "import numpy as np\n",
    "\n",
    "data = {\n",
    "    'RANKING': [1, 2, 3, 4],\n",
    "    'SMOKER': ['RS', 'CC', 'RF', 'PMM'],\n",
    "    'INTERCEPT': ['CC', 'PMM', 'RF', 'RS'],\n",
    "    'SEX': ['CC', 'RF', 'PMM', 'RS'],\n",
    "    'SW': ['RS', 'CC', 'RF', 'PMM'],\n",
    "    'NW': ['RF', 'RS', 'PMM', 'CC'],\n",
    "    'SE': ['RF', 'RS', 'CC', 'RF'],\n",
    "    'CHILDREN': ['CC', 'RF', 'RS', 'PMM'],\n",
    "    'INTERACTION': ['RF', 'RS', 'CC', 'PMM'],\n",
    "    'BMI': ['CC', 'PMM', 'RF', 'RS'],\n",
    "    'AGE': ['RS', 'CC', 'RF', 'PMM'],\n",
    "}\n",
    "\n",
    "# Create a DataFrame\n",
    "df = pd.DataFrame(data)\n",
    "\n",
    "# Scoring dictionary\n",
    "score_dict = {1: 4, 2: 3, 3: 2, 4: 1}\n",
    "score_dict_NW = {1: 4, 2: 2.5, 3: 2.5, 4: 1}\n",
    "\n",
    "# Create an empty dictionary to keep scores\n",
    "scores = {'RS': 0, 'CC': 0, 'RF': 0, 'PMM': 0}\n",
    "\n",
    "# Iterate over the entire DataFrame to calculate the scores\n",
    "for index, row in df.iterrows():\n",
    "    for col in df.columns[1:]:\n",
    "        if col == 'NW':\n",
    "            scores[row[col]] += score_dict_NW[row['RANKING']]\n",
    "        else:\n",
    "            scores[row[col]] += score_dict[row['RANKING']]\n",
    "\n",
    "print(scores)"
   ]
  },
  {
   "cell_type": "code",
   "outputs": [
    {
     "name": "stdout",
     "output_type": "stream",
     "text": [
      "{'RS': 15, 'RF': 22, 'PMM': 23}\n"
     ]
    }
   ],
   "source": [
    "# Define new data\n",
    "data = {\n",
    "    'RANKING': [1, 2, 3],\n",
    "    'SMOKER': ['RS', 'RF', 'PMM'],\n",
    "    'INTERCEPT': ['PMM', 'RF', 'RS'],\n",
    "    'SEX': ['RF', 'PMM', 'RS'],\n",
    "    'SW': ['PMM', 'RS', 'RF'],\n",
    "    'SE': ['PMM', 'RS', 'RF'],\n",
    "    'NW': ['PMM', 'RF', 'RS'],\n",
    "    'CHILDREN': ['PMM', 'RF', 'RS'],\n",
    "    'INTERACTION': ['RF', 'PMM', 'RS'],\n",
    "    'BMI': ['RF', 'RS', 'RF'],\n",
    "    'AGE': ['PMM', 'RF', 'RS']\n",
    "}\n",
    "\n",
    "# Create a DataFrame\n",
    "df = pd.DataFrame(data)\n",
    "\n",
    "# Scoring dictionary: Best=3, Middle=2, Worst=1\n",
    "score_dict = {1: 3, 2: 2, 3: 1}\n",
    "\n",
    "# Create an empty dictionary to keep scores\n",
    "scores = {'RS': 0, 'RF': 0, 'PMM': 0}\n",
    "\n",
    "# Iterate over the entire DataFrame to calculate the scores\n",
    "for _, row in df.iterrows():\n",
    "    for col in df.columns[1:]:\n",
    "        scores[row[col]] += score_dict[row['RANKING']]\n",
    "\n",
    "print(scores)"
   ],
   "metadata": {
    "collapsed": false,
    "ExecuteTime": {
     "end_time": "2024-04-25T14:39:13.459839300Z",
     "start_time": "2024-04-25T14:39:13.447388800Z"
    }
   },
   "id": "4237906e2c82fd5b",
   "execution_count": 6
  },
  {
   "cell_type": "code",
   "outputs": [
    {
     "name": "stdout",
     "output_type": "stream",
     "text": [
      "{'RS': 49, 'CC': 36, 'RF': 35, 'PMM': 20, 'ORIGINAL': 10}\n"
     ]
    }
   ],
   "source": [
    "# Define new data\n",
    "data = {\n",
    "    'RANKING': [1, 2, 3, 4, 5],\n",
    "    'SMOKER': ['RS', 'CC', 'RF', 'PMM', 'ORIGINAL'],\n",
    "    'INTERCEPT': ['RS', 'RF', 'CC', 'PMM', 'ORIGINAL'],\n",
    "    'SEX': ['RF', 'RS', 'CC', 'PMM', 'ORIGINAL'],\n",
    "    'SW': ['RS', 'CC', 'RF', 'PMM', 'ORIGINAL'],\n",
    "    'SE': ['RS', 'CC', 'RF', 'PMM', 'ORIGINAL'],\n",
    "    'NW': ['RS', 'RF', 'CC', 'PMM', 'ORIGINAL'],\n",
    "    'CHILDREN': ['RS', 'CC', 'RF', 'PMM', 'ORIGINAL'],\n",
    "    'INTERACTION': ['RS', 'RF', 'CC', 'PMM', 'ORIGINAL'],\n",
    "    'BMI': ['RS', 'CC', 'RF', 'PMM', 'ORIGINAL'],\n",
    "    'AGE': ['RS', 'CC', 'RF', 'PMM', 'ORIGINAL']\n",
    "}\n",
    "\n",
    "# Create a DataFrame\n",
    "df = pd.DataFrame(data)\n",
    "\n",
    "# Scoring dictionary with points from 5 to 1\n",
    "score_dict = {1: 5, 2: 4, 3: 3, 4: 2, 5: 1}\n",
    "\n",
    "# Initialize an empty dictionary to store scores\n",
    "scores = {'RS': 0, 'CC': 0, 'RF': 0, 'PMM': 0, 'ORIGINAL': 0}\n",
    "\n",
    "# Iterate over DataFrame to calculate scores\n",
    "for _, row in df.iterrows():\n",
    "    for col in df.columns[1:]:\n",
    "        scores[row[col]] += score_dict[row['RANKING']]\n",
    "\n",
    "print(scores)"
   ],
   "metadata": {
    "collapsed": false,
    "ExecuteTime": {
     "end_time": "2024-04-25T15:05:23.970286300Z",
     "start_time": "2024-04-25T15:05:23.946013500Z"
    }
   },
   "id": "7b2735842dba3bff",
   "execution_count": 9
  },
  {
   "cell_type": "code",
   "outputs": [],
   "source": [],
   "metadata": {
    "collapsed": false
   },
   "id": "b5accd8f0e7181ee"
  }
 ],
 "metadata": {
  "kernelspec": {
   "display_name": "Python 3",
   "language": "python",
   "name": "python3"
  },
  "language_info": {
   "codemirror_mode": {
    "name": "ipython",
    "version": 2
   },
   "file_extension": ".py",
   "mimetype": "text/x-python",
   "name": "python",
   "nbconvert_exporter": "python",
   "pygments_lexer": "ipython2",
   "version": "2.7.6"
  }
 },
 "nbformat": 4,
 "nbformat_minor": 5
}
